{
 "cells": [
  {
   "cell_type": "code",
   "execution_count": null,
   "metadata": {},
   "outputs": [],
   "source": [
    "import numpy as np\n",
    "\n",
    "X=np.load(\"../TrainTestDataFlat/Shuffled/X.npy\")\n",
    "y=np.load(\"../TrainTestDataFlat/Shuffled/y.npy\")\n",
    "X_train=np.load(\"../TrainTestDataFlat/Shuffled/X_train.npy\")\n",
    "y_train=np.load(\"../TrainTestDataFlat/Shuffled/y_train.npy\")\n",
    "X_test=np.load(\"../TrainTestDataFlat/Shuffled/X_test.npy\")\n",
    "y_test=np.load(\"../TrainTestDataFlat/Shuffled/y_test.npy\")"
   ]
  },
  {
   "cell_type": "code",
   "execution_count": null,
   "metadata": {},
   "outputs": [],
   "source": [
    "intention = [\"Backward\", \"Forward\", \"Left\", \"Other\", \"Right\"]"
   ]
  },
  {
   "cell_type": "code",
   "execution_count": null,
   "metadata": {},
   "outputs": [],
   "source": []
  }
 ],
 "metadata": {
  "language_info": {
   "name": "python"
  },
  "orig_nbformat": 4
 },
 "nbformat": 4,
 "nbformat_minor": 2
}
